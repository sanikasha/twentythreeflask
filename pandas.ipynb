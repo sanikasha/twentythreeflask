{
 "cells": [
  {
   "cell_type": "code",
   "execution_count": 3,
   "metadata": {},
   "outputs": [
    {
     "name": "stdout",
     "output_type": "stream",
     "text": [
      "                        id                                               name  \\\n",
      "0   4ZtFanR9U6ndgddUvNcjcG                            Good 4 U Olivia Rodrigo   \n",
      "1   5fxyZf6m2xHeSrOzUfcJrq                 Stay The Kid LAROI & Justin Bieber   \n",
      "2   5nujrmhLynf4yMoMtj8AQF                   Levitating Dua Lipa feat. DaBaby   \n",
      "3   4iJyoBOLtHqaGxP12qzhQI  Peaches Justin Bieber feat. Daniel Caesar & Gi...   \n",
      "4   1SC5rEoYDGUK4NfG82494W           Montero (Call Me By Your Name) Lil Nas X   \n",
      "..                     ...                                                ...   \n",
      "95  4iJyoBOLtHqaGxP12qzhQI  Peaches (feat. Daniel Caesar & Giveon) Justin ...   \n",
      "96  1FSWSs9CL01RCYxXtm08Rf                    Dance With Me Tonight Olly Murs   \n",
      "97  54bFM56PmE4YLRnqpW6Tha                       Therefore I Am Billie Eilish   \n",
      "98  5jsw9uXEGuKyJzs0boZ1bT                              Stitches Shawn Mendes   \n",
      "99  1SC5rEoYDGUK4NfG82494W           Montero (Call Me By Your Name) Lil Nas X   \n",
      "\n",
      "    duration  energy  key  loudness  mode  speechiness  acousticness  \\\n",
      "0       2.97   0.664    9    -5.044     1       0.1540       0.33500   \n",
      "1       2.30   0.506    8   -11.275     1       0.0589       0.37900   \n",
      "2       3.38   0.825    6    -3.787     0       0.0601       0.00883   \n",
      "3       3.30   0.696    0    -6.181     1       0.1190       0.32100   \n",
      "4       2.30   0.503    8    -6.725     0       0.2200       0.29300   \n",
      "..       ...     ...  ...       ...   ...          ...           ...   \n",
      "95      3.30   0.696    0    -6.181     1       0.1190       0.32100   \n",
      "96      3.37   0.748   11    -5.922     0       0.0589       0.30500   \n",
      "97      2.91   0.340   11    -7.773     0       0.0697       0.21800   \n",
      "98      3.45   0.754    1    -6.684     1       0.0615       0.01510   \n",
      "99      2.30   0.503    8    -6.725     0       0.2200       0.29300   \n",
      "\n",
      "    instrumentalness  liveness  valence    tempo  danceability  \n",
      "0              0.000    0.0849    0.688  166.928         0.563  \n",
      "1              0.868    0.1100    0.454  170.054         0.564  \n",
      "2              0.000    0.0674    0.915  102.977         0.702  \n",
      "3              0.000    0.4200    0.464   90.030         0.677  \n",
      "4              0.000    0.4050    0.710  178.781         0.593  \n",
      "..               ...       ...      ...      ...           ...  \n",
      "95             0.000    0.4200    0.464   90.030         0.677  \n",
      "96             0.000    0.0811    0.964  163.984         0.672  \n",
      "97             0.130    0.0550    0.716   94.009         0.889  \n",
      "98             0.000    0.0486    0.755  149.789         0.752  \n",
      "99             0.000    0.4050    0.710  178.781         0.593  \n",
      "\n",
      "[100 rows x 14 columns]\n"
     ]
    }
   ],
   "source": [
    "import pandas as pd\n",
    "\n",
    "#read csv and sort 'Duration' largest to smallest\n",
    "df = pd.read_csv('songdata.csv')\n",
    "\n",
    "print(df)"
   ]
  }
 ],
 "metadata": {
  "kernelspec": {
   "display_name": "base",
   "language": "python",
   "name": "python3"
  },
  "language_info": {
   "codemirror_mode": {
    "name": "ipython",
    "version": 3
   },
   "file_extension": ".py",
   "mimetype": "text/x-python",
   "name": "python",
   "nbconvert_exporter": "python",
   "pygments_lexer": "ipython3",
   "version": "3.9.12"
  },
  "orig_nbformat": 4,
  "vscode": {
   "interpreter": {
    "hash": "571239ac2c560497d46275de41a8cfad01e133fe765cb010ae44c691b385d62f"
   }
  }
 },
 "nbformat": 4,
 "nbformat_minor": 2
}
